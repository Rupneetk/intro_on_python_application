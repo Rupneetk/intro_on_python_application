{
  "nbformat": 4,
  "nbformat_minor": 0,
  "metadata": {
    "colab": {
      "name": "Class4_Intro_Python.ipynb",
      "provenance": [],
      "collapsed_sections": [],
      "authorship_tag": "ABX9TyNMb5wMdd2iKMjM17LH2SBa",
      "include_colab_link": true
    },
    "kernelspec": {
      "name": "python3",
      "display_name": "Python 3"
    }
  },
  "cells": [
    {
      "cell_type": "markdown",
      "metadata": {
        "id": "view-in-github",
        "colab_type": "text"
      },
      "source": [
        "<a href=\"https://colab.research.google.com/github/Rupneetk/intro_on_python_application/blob/master/Class4_Intro_Python.ipynb\" target=\"_parent\"><img src=\"https://colab.research.google.com/assets/colab-badge.svg\" alt=\"Open In Colab\"/></a>"
      ]
    },
    {
      "cell_type": "markdown",
      "metadata": {
        "id": "UaS4a7RUq8l2",
        "colab_type": "text"
      },
      "source": [
        "Use of Continue: Tells python to just continue the next iteration of the loop"
      ]
    },
    {
      "cell_type": "code",
      "metadata": {
        "id": "r7KYHDse1po2",
        "colab_type": "code",
        "outputId": "8cc904e8-9ddd-4219-f212-d5bf8a0705a8",
        "colab": {
          "base_uri": "https://localhost:8080/",
          "height": 153
        }
      },
      "source": [
        "for num in range(2,10):\n",
        "  \"\"\" Finds odd and even numbers in the range \"\"\"\n",
        "  if num % 2 == 0:\n",
        "    print(\"found the even number:\", num)\n",
        "    continue\n",
        "  print(\"found the odd number:\", num)"
      ],
      "execution_count": 0,
      "outputs": [
        {
          "output_type": "stream",
          "text": [
            "found the even number: 2\n",
            "found the odd number: 3\n",
            "found the even number: 4\n",
            "found the odd number: 5\n",
            "found the even number: 6\n",
            "found the odd number: 7\n",
            "found the even number: 8\n",
            "found the odd number: 9\n"
          ],
          "name": "stdout"
        }
      ]
    },
    {
      "cell_type": "markdown",
      "metadata": {
        "id": "j0vEEgwyrDPt",
        "colab_type": "text"
      },
      "source": [
        "use of Break: Cause to quit the execution of the particular loop and returns to outside loop "
      ]
    },
    {
      "cell_type": "code",
      "metadata": {
        "id": "tRC7LVhs2Jas",
        "colab_type": "code",
        "outputId": "e52aa863-3a85-41a8-b724-8d0595414627",
        "colab": {
          "base_uri": "https://localhost:8080/",
          "height": 187
        }
      },
      "source": [
        "# Use of break: \n",
        "for n in range(2, 7):\n",
        "  for x in range(2,n):\n",
        "    if n % x == 0:\n",
        "      print(n,'equals', x ,'*', n/x)\n",
        "      #break\n",
        "    else:\n",
        "      print(n, 'is a prime number')"
      ],
      "execution_count": 0,
      "outputs": [
        {
          "output_type": "stream",
          "text": [
            "3 is a prime number\n",
            "4 equals 2 * 2.0\n",
            "4 is a prime number\n",
            "5 is a prime number\n",
            "5 is a prime number\n",
            "5 is a prime number\n",
            "6 equals 2 * 3.0\n",
            "6 equals 3 * 2.0\n",
            "6 is a prime number\n",
            "6 is a prime number\n"
          ],
          "name": "stdout"
        }
      ]
    },
    {
      "cell_type": "markdown",
      "metadata": {
        "id": "uKZTLjM6rYeS",
        "colab_type": "text"
      },
      "source": [
        "Use of Pass:  Placeholder code. Satisfy the requirement of python syntax.Does nothing"
      ]
    },
    {
      "cell_type": "code",
      "metadata": {
        "id": "7G49vXaA3uyt",
        "colab_type": "code",
        "colab": {}
      },
      "source": [
        "traffic_light='green'\n",
        "if traffic_light == 'green':\n",
        "  pass\n",
        "else:\n",
        "  print('stop')"
      ],
      "execution_count": 0,
      "outputs": []
    },
    {
      "cell_type": "markdown",
      "metadata": {
        "id": "U0fEEGSgrp36",
        "colab_type": "text"
      },
      "source": [
        "Dot format method: allows multiple substitutions and value formatting. This method lets us concatenate elements within a string through positional formatting."
      ]
    },
    {
      "cell_type": "code",
      "metadata": {
        "id": "x_peE9t4641B",
        "colab_type": "code",
        "outputId": "0969835d-df3f-4e35-be91-cd51b2b31c62",
        "colab": {
          "base_uri": "https://localhost:8080/",
          "height": 34
        }
      },
      "source": [
        "print('the {q} {f} {b}'.format(q='quick',f='fox',b='brown'))"
      ],
      "execution_count": 0,
      "outputs": [
        {
          "output_type": "stream",
          "text": [
            "the quick fox brown\n"
          ],
          "name": "stdout"
        }
      ]
    },
    {
      "cell_type": "markdown",
      "metadata": {
        "id": "p1rkvuYqsmBF",
        "colab_type": "text"
      },
      "source": [
        " f-strings : It is new,  fast, concise, and less prone to errors of the above dot format method"
      ]
    },
    {
      "cell_type": "code",
      "metadata": {
        "id": "QGOnBwfe7Lbn",
        "colab_type": "code",
        "outputId": "16cda476-3498-43f9-bd7a-08ab85ec262a",
        "colab": {
          "base_uri": "https://localhost:8080/",
          "height": 34
        }
      },
      "source": [
        "name='RS'\n",
        "print(f'hello my name is {name}')"
      ],
      "execution_count": 0,
      "outputs": [
        {
          "output_type": "stream",
          "text": [
            "hello my name is RS\n"
          ],
          "name": "stdout"
        }
      ]
    },
    {
      "cell_type": "markdown",
      "metadata": {
        "id": "C_t6WJlUumuv",
        "colab_type": "text"
      },
      "source": [
        "Creating your functions: custom made to fullfil your requirement"
      ]
    },
    {
      "cell_type": "code",
      "metadata": {
        "id": "TYzT1ZAauyTJ",
        "colab_type": "code",
        "outputId": "d0080748-c0a3-46d9-f7d1-b16990d91d37",
        "colab": {
          "base_uri": "https://localhost:8080/",
          "height": 34
        }
      },
      "source": [
        "l=10                    # variable assignment\n",
        "def area_volume(j):       # taking one input as j\n",
        "  area= l*l             # formula used in the function based on your requirement\n",
        "  return area         # returning one value\n",
        "\n",
        "area_volume(l)          # calling the function "
      ],
      "execution_count": 0,
      "outputs": [
        {
          "output_type": "execute_result",
          "data": {
            "text/plain": [
              "100"
            ]
          },
          "metadata": {
            "tags": []
          },
          "execution_count": 4
        }
      ]
    },
    {
      "cell_type": "code",
      "metadata": {
        "id": "v2esNjbz8PDT",
        "colab_type": "code",
        "outputId": "cf422b5d-9130-45e0-dffe-93f3652559c5",
        "colab": {
          "base_uri": "https://localhost:8080/",
          "height": 51
        }
      },
      "source": [
        "def area_volume(l,b,h):           # 3 variables inputs\n",
        "  tsa= 2*(l*b+b*h+ h*l)\n",
        "  volume= l*b*h\n",
        "  return tsa, volume            # 2 values returned from the function\n",
        "\n",
        "t,v=area_volume(10,5,1)           # total surface area and volume stored in 2 seprate variables\n",
        "print(t)                          # the importance of print statment allows you to print multiple things\n",
        "print(v)"
      ],
      "execution_count": 0,
      "outputs": [
        {
          "output_type": "stream",
          "text": [
            "130\n",
            "50\n"
          ],
          "name": "stdout"
        }
      ]
    },
    {
      "cell_type": "code",
      "metadata": {
        "id": "s1o3kof69MzH",
        "colab_type": "code",
        "outputId": "054fea5a-87d7-48a3-b4b0-c36862d6ac09",
        "colab": {
          "base_uri": "https://localhost:8080/",
          "height": 34
        }
      },
      "source": [
        "# as simple function without a return satement \n",
        "def print_hello(name):\n",
        "  print('hello', name)\n",
        "\n",
        "print_hello('RS')           # calling the function to execute"
      ],
      "execution_count": 0,
      "outputs": [
        {
          "output_type": "stream",
          "text": [
            "hello RS\n"
          ],
          "name": "stdout"
        }
      ]
    },
    {
      "cell_type": "markdown",
      "metadata": {
        "id": "WnPTqm9PwTEO",
        "colab_type": "text"
      },
      "source": [
        "Pandas"
      ]
    },
    {
      "cell_type": "code",
      "metadata": {
        "id": "GK3BegVg_XQq",
        "colab_type": "code",
        "colab": {}
      },
      "source": [
        "import pandas as pd"
      ],
      "execution_count": 0,
      "outputs": []
    },
    {
      "cell_type": "code",
      "metadata": {
        "id": "uZ2lZe8-Fk5D",
        "colab_type": "code",
        "colab": {}
      },
      "source": [
        "# uploading data from your PC to colab and loading it on colab\n",
        "caltrain_data=pd.read_csv('ridshp_Daily.csv')"
      ],
      "execution_count": 0,
      "outputs": []
    },
    {
      "cell_type": "code",
      "metadata": {
        "id": "p3YV6y1oGHZf",
        "colab_type": "code",
        "outputId": "aeab94cf-3e11-4619-8bbc-565266cb9a45",
        "colab": {
          "base_uri": "https://localhost:8080/",
          "height": 241
        }
      },
      "source": [
        "caltrain_data.head()"
      ],
      "execution_count": 0,
      "outputs": [
        {
          "output_type": "execute_result",
          "data": {
            "text/html": [
              "<div>\n",
              "<style scoped>\n",
              "    .dataframe tbody tr th:only-of-type {\n",
              "        vertical-align: middle;\n",
              "    }\n",
              "\n",
              "    .dataframe tbody tr th {\n",
              "        vertical-align: top;\n",
              "    }\n",
              "\n",
              "    .dataframe thead th {\n",
              "        text-align: right;\n",
              "    }\n",
              "</style>\n",
              "<table border=\"1\" class=\"dataframe\">\n",
              "  <thead>\n",
              "    <tr style=\"text-align: right;\">\n",
              "      <th></th>\n",
              "      <th>Origin_ID</th>\n",
              "      <th>Origin_Name</th>\n",
              "      <th>Dest_ID</th>\n",
              "      <th>Dest_Name</th>\n",
              "      <th>Ridership_2017_observed</th>\n",
              "      <th>Ridership_2022_diesel</th>\n",
              "      <th>Ridership_2022_PCEP</th>\n",
              "      <th>Ridership_2029_PCEP_noTransbay</th>\n",
              "      <th>Ridership_2029_PCEP</th>\n",
              "      <th>Ridership_2029_HSR1</th>\n",
              "      <th>Ridership_2033_HSR1</th>\n",
              "      <th>Ridership_2033_HSR2</th>\n",
              "      <th>Ridership_2040_HSR2</th>\n",
              "      <th>Ridership_2040_moderate</th>\n",
              "      <th>Ridership_2040_high</th>\n",
              "    </tr>\n",
              "  </thead>\n",
              "  <tbody>\n",
              "    <tr>\n",
              "      <th>0</th>\n",
              "      <td>1</td>\n",
              "      <td>Transbay</td>\n",
              "      <td>1</td>\n",
              "      <td>Transbay</td>\n",
              "      <td>0</td>\n",
              "      <td>0</td>\n",
              "      <td>0</td>\n",
              "      <td>0</td>\n",
              "      <td>0</td>\n",
              "      <td>0</td>\n",
              "      <td>0</td>\n",
              "      <td>0</td>\n",
              "      <td>0</td>\n",
              "      <td>0</td>\n",
              "      <td>0</td>\n",
              "    </tr>\n",
              "    <tr>\n",
              "      <th>1</th>\n",
              "      <td>2</td>\n",
              "      <td>4th and King</td>\n",
              "      <td>1</td>\n",
              "      <td>Transbay</td>\n",
              "      <td>0</td>\n",
              "      <td>0</td>\n",
              "      <td>0</td>\n",
              "      <td>0</td>\n",
              "      <td>330</td>\n",
              "      <td>867</td>\n",
              "      <td>978</td>\n",
              "      <td>913</td>\n",
              "      <td>1111</td>\n",
              "      <td>1539</td>\n",
              "      <td>1693</td>\n",
              "    </tr>\n",
              "    <tr>\n",
              "      <th>2</th>\n",
              "      <td>4</td>\n",
              "      <td>22nd St</td>\n",
              "      <td>1</td>\n",
              "      <td>Transbay</td>\n",
              "      <td>0</td>\n",
              "      <td>0</td>\n",
              "      <td>0</td>\n",
              "      <td>0</td>\n",
              "      <td>128</td>\n",
              "      <td>260</td>\n",
              "      <td>289</td>\n",
              "      <td>266</td>\n",
              "      <td>323</td>\n",
              "      <td>853</td>\n",
              "      <td>634</td>\n",
              "    </tr>\n",
              "    <tr>\n",
              "      <th>3</th>\n",
              "      <td>7</td>\n",
              "      <td>Bayshore</td>\n",
              "      <td>1</td>\n",
              "      <td>Transbay</td>\n",
              "      <td>0</td>\n",
              "      <td>0</td>\n",
              "      <td>0</td>\n",
              "      <td>0</td>\n",
              "      <td>113</td>\n",
              "      <td>173</td>\n",
              "      <td>198</td>\n",
              "      <td>184</td>\n",
              "      <td>226</td>\n",
              "      <td>219</td>\n",
              "      <td>209</td>\n",
              "    </tr>\n",
              "    <tr>\n",
              "      <th>4</th>\n",
              "      <td>8</td>\n",
              "      <td>South San Francisco</td>\n",
              "      <td>1</td>\n",
              "      <td>Transbay</td>\n",
              "      <td>0</td>\n",
              "      <td>0</td>\n",
              "      <td>0</td>\n",
              "      <td>0</td>\n",
              "      <td>367</td>\n",
              "      <td>312</td>\n",
              "      <td>346</td>\n",
              "      <td>335</td>\n",
              "      <td>405</td>\n",
              "      <td>1102</td>\n",
              "      <td>1040</td>\n",
              "    </tr>\n",
              "  </tbody>\n",
              "</table>\n",
              "</div>"
            ],
            "text/plain": [
              "   Origin_ID          Origin_Name  ...  Ridership_2040_moderate Ridership_2040_high\n",
              "0          1             Transbay  ...                        0                   0\n",
              "1          2         4th and King  ...                     1539                1693\n",
              "2          4              22nd St  ...                      853                 634\n",
              "3          7             Bayshore  ...                      219                 209\n",
              "4          8  South San Francisco  ...                     1102                1040\n",
              "\n",
              "[5 rows x 15 columns]"
            ]
          },
          "metadata": {
            "tags": []
          },
          "execution_count": 48
        }
      ]
    },
    {
      "cell_type": "code",
      "metadata": {
        "id": "EEhcljxCG9RV",
        "colab_type": "code",
        "outputId": "4cb234cd-983e-469d-f341-843dae611b3e",
        "colab": {
          "base_uri": "https://localhost:8080/",
          "height": 204
        }
      },
      "source": [
        "# getting data from the server using vegas data set\n",
        "from vega_datasets import data\n",
        "iris_data=data.iris() \n",
        "iris_data.head()"
      ],
      "execution_count": 0,
      "outputs": [
        {
          "output_type": "execute_result",
          "data": {
            "text/html": [
              "<div>\n",
              "<style scoped>\n",
              "    .dataframe tbody tr th:only-of-type {\n",
              "        vertical-align: middle;\n",
              "    }\n",
              "\n",
              "    .dataframe tbody tr th {\n",
              "        vertical-align: top;\n",
              "    }\n",
              "\n",
              "    .dataframe thead th {\n",
              "        text-align: right;\n",
              "    }\n",
              "</style>\n",
              "<table border=\"1\" class=\"dataframe\">\n",
              "  <thead>\n",
              "    <tr style=\"text-align: right;\">\n",
              "      <th></th>\n",
              "      <th>sepalLength</th>\n",
              "      <th>sepalWidth</th>\n",
              "      <th>petalLength</th>\n",
              "      <th>petalWidth</th>\n",
              "      <th>species</th>\n",
              "    </tr>\n",
              "  </thead>\n",
              "  <tbody>\n",
              "    <tr>\n",
              "      <th>0</th>\n",
              "      <td>5.1</td>\n",
              "      <td>3.5</td>\n",
              "      <td>1.4</td>\n",
              "      <td>0.2</td>\n",
              "      <td>setosa</td>\n",
              "    </tr>\n",
              "    <tr>\n",
              "      <th>1</th>\n",
              "      <td>4.9</td>\n",
              "      <td>3.0</td>\n",
              "      <td>1.4</td>\n",
              "      <td>0.2</td>\n",
              "      <td>setosa</td>\n",
              "    </tr>\n",
              "    <tr>\n",
              "      <th>2</th>\n",
              "      <td>4.7</td>\n",
              "      <td>3.2</td>\n",
              "      <td>1.3</td>\n",
              "      <td>0.2</td>\n",
              "      <td>setosa</td>\n",
              "    </tr>\n",
              "    <tr>\n",
              "      <th>3</th>\n",
              "      <td>4.6</td>\n",
              "      <td>3.1</td>\n",
              "      <td>1.5</td>\n",
              "      <td>0.2</td>\n",
              "      <td>setosa</td>\n",
              "    </tr>\n",
              "    <tr>\n",
              "      <th>4</th>\n",
              "      <td>5.0</td>\n",
              "      <td>3.6</td>\n",
              "      <td>1.4</td>\n",
              "      <td>0.2</td>\n",
              "      <td>setosa</td>\n",
              "    </tr>\n",
              "  </tbody>\n",
              "</table>\n",
              "</div>"
            ],
            "text/plain": [
              "   sepalLength  sepalWidth  petalLength  petalWidth species\n",
              "0          5.1         3.5          1.4         0.2  setosa\n",
              "1          4.9         3.0          1.4         0.2  setosa\n",
              "2          4.7         3.2          1.3         0.2  setosa\n",
              "3          4.6         3.1          1.5         0.2  setosa\n",
              "4          5.0         3.6          1.4         0.2  setosa"
            ]
          },
          "metadata": {
            "tags": []
          },
          "execution_count": 1
        }
      ]
    },
    {
      "cell_type": "code",
      "metadata": {
        "id": "RwofT0QtGWGo",
        "colab_type": "code",
        "colab": {}
      },
      "source": [
        "# getting data from a link \n",
        "iris_data=pd.read_csv('https://www.neuraldesigner.com/files/datasets/iris_flowers.csv')"
      ],
      "execution_count": 0,
      "outputs": []
    },
    {
      "cell_type": "code",
      "metadata": {
        "id": "QuQnsuUBGkpR",
        "colab_type": "code",
        "outputId": "a942d3ae-1fed-4dd3-d55f-cafe0fead5c3",
        "colab": {
          "base_uri": "https://localhost:8080/",
          "height": 204
        }
      },
      "source": [
        "iris_data.head()"
      ],
      "execution_count": 0,
      "outputs": [
        {
          "output_type": "execute_result",
          "data": {
            "text/html": [
              "<div>\n",
              "<style scoped>\n",
              "    .dataframe tbody tr th:only-of-type {\n",
              "        vertical-align: middle;\n",
              "    }\n",
              "\n",
              "    .dataframe tbody tr th {\n",
              "        vertical-align: top;\n",
              "    }\n",
              "\n",
              "    .dataframe thead th {\n",
              "        text-align: right;\n",
              "    }\n",
              "</style>\n",
              "<table border=\"1\" class=\"dataframe\">\n",
              "  <thead>\n",
              "    <tr style=\"text-align: right;\">\n",
              "      <th></th>\n",
              "      <th>sepal_length</th>\n",
              "      <th>sepal_width</th>\n",
              "      <th>petal_length</th>\n",
              "      <th>petal_width</th>\n",
              "      <th>class</th>\n",
              "    </tr>\n",
              "  </thead>\n",
              "  <tbody>\n",
              "    <tr>\n",
              "      <th>0</th>\n",
              "      <td>5.1</td>\n",
              "      <td>3.5</td>\n",
              "      <td>1.4</td>\n",
              "      <td>0.2</td>\n",
              "      <td>iris_setosa</td>\n",
              "    </tr>\n",
              "    <tr>\n",
              "      <th>1</th>\n",
              "      <td>4.9</td>\n",
              "      <td>3.0</td>\n",
              "      <td>1.4</td>\n",
              "      <td>0.2</td>\n",
              "      <td>iris_setosa</td>\n",
              "    </tr>\n",
              "    <tr>\n",
              "      <th>2</th>\n",
              "      <td>4.7</td>\n",
              "      <td>3.2</td>\n",
              "      <td>1.3</td>\n",
              "      <td>0.2</td>\n",
              "      <td>iris_setosa</td>\n",
              "    </tr>\n",
              "    <tr>\n",
              "      <th>3</th>\n",
              "      <td>4.6</td>\n",
              "      <td>3.1</td>\n",
              "      <td>1.5</td>\n",
              "      <td>0.2</td>\n",
              "      <td>iris_setosa</td>\n",
              "    </tr>\n",
              "    <tr>\n",
              "      <th>4</th>\n",
              "      <td>5.0</td>\n",
              "      <td>3.6</td>\n",
              "      <td>1.4</td>\n",
              "      <td>0.2</td>\n",
              "      <td>iris_setosa</td>\n",
              "    </tr>\n",
              "  </tbody>\n",
              "</table>\n",
              "</div>"
            ],
            "text/plain": [
              "   sepal_length  sepal_width  petal_length   petal_width        class\n",
              "0           5.1          3.5           1.4           0.2  iris_setosa\n",
              "1           4.9          3.0           1.4           0.2  iris_setosa\n",
              "2           4.7          3.2           1.3           0.2  iris_setosa\n",
              "3           4.6          3.1           1.5           0.2  iris_setosa\n",
              "4           5.0          3.6           1.4           0.2  iris_setosa"
            ]
          },
          "metadata": {
            "tags": []
          },
          "execution_count": 50
        }
      ]
    },
    {
      "cell_type": "code",
      "metadata": {
        "id": "hdLU_WY2GmoW",
        "colab_type": "code",
        "outputId": "80a9072c-0198-4d0e-c511-a2bd4230fedc",
        "colab": {
          "base_uri": "https://localhost:8080/",
          "height": 312
        }
      },
      "source": [
        "# ploting scatter plot using pandas module \n",
        "iris_data.plot.scatter(x='sepalLength',y='petalLength', title='Relation between Sepal length and petal length of iris flower',color='g', alpha=0.5,s=100)"
      ],
      "execution_count": 0,
      "outputs": [
        {
          "output_type": "execute_result",
          "data": {
            "text/plain": [
              "<matplotlib.axes._subplots.AxesSubplot at 0x7f13b9cb1a20>"
            ]
          },
          "metadata": {
            "tags": []
          },
          "execution_count": 11
        },
        {
          "output_type": "display_data",
          "data": {
            "image/png": "[encoded data removed]",
            "text/plain": [
              "<Figure size 432x288 with 1 Axes>"
            ]
          },
          "metadata": {
            "tags": []
          }
        }
      ]
    },
    {
      "cell_type": "markdown",
      "metadata": {
        "id": "-hPbZ30eyKTw",
        "colab_type": "text"
      },
      "source": [
        "Other options you can explore"
      ]
    },
    {
      "cell_type": "markdown",
      "metadata": {
        "id": "vFSjBlDRx-KW",
        "colab_type": "text"
      },
      "source": [
        "DataFrame.plot(x=None, y=None, kind='line', ax=None, subplots=False, sharex=None, sharey=False, layout=None, figsize=None, use_index=True, title=None, grid=None, legend=True, style=None, logx=False, logy=False, loglog=False, xticks=None, yticks=None, xlim=None, ylim=None, rot=None, fontsize=None, colormap=None, table=False, yerr=None, xerr=None, secondary_y=False, sort_columns=False, **kwds)[source]"
      ]
    },
    {
      "cell_type": "code",
      "metadata": {
        "id": "JzO1UxwBG4WC",
        "colab_type": "code",
        "colab": {}
      },
      "source": [
        "# importing Matplot lib library\n",
        "import matplotlib.pyplot as plt"
      ],
      "execution_count": 0,
      "outputs": []
    },
    {
      "cell_type": "code",
      "metadata": {
        "id": "hRX_-1LmH28b",
        "colab_type": "code",
        "outputId": "c7ca0cd9-9a0d-49b2-9069-2fb079a9b721",
        "colab": {
          "base_uri": "https://localhost:8080/",
          "height": 204
        }
      },
      "source": [
        "cars_data=data.cars()\n",
        "cars_data.head()"
      ],
      "execution_count": 0,
      "outputs": [
        {
          "output_type": "execute_result",
          "data": {
            "text/html": [
              "<div>\n",
              "<style scoped>\n",
              "    .dataframe tbody tr th:only-of-type {\n",
              "        vertical-align: middle;\n",
              "    }\n",
              "\n",
              "    .dataframe tbody tr th {\n",
              "        vertical-align: top;\n",
              "    }\n",
              "\n",
              "    .dataframe thead th {\n",
              "        text-align: right;\n",
              "    }\n",
              "</style>\n",
              "<table border=\"1\" class=\"dataframe\">\n",
              "  <thead>\n",
              "    <tr style=\"text-align: right;\">\n",
              "      <th></th>\n",
              "      <th>Name</th>\n",
              "      <th>Miles_per_Gallon</th>\n",
              "      <th>Cylinders</th>\n",
              "      <th>Displacement</th>\n",
              "      <th>Horsepower</th>\n",
              "      <th>Weight_in_lbs</th>\n",
              "      <th>Acceleration</th>\n",
              "      <th>Year</th>\n",
              "      <th>Origin</th>\n",
              "    </tr>\n",
              "  </thead>\n",
              "  <tbody>\n",
              "    <tr>\n",
              "      <th>0</th>\n",
              "      <td>chevrolet chevelle malibu</td>\n",
              "      <td>18.0</td>\n",
              "      <td>8</td>\n",
              "      <td>307.0</td>\n",
              "      <td>130.0</td>\n",
              "      <td>3504</td>\n",
              "      <td>12.0</td>\n",
              "      <td>1970-01-01</td>\n",
              "      <td>USA</td>\n",
              "    </tr>\n",
              "    <tr>\n",
              "      <th>1</th>\n",
              "      <td>buick skylark 320</td>\n",
              "      <td>15.0</td>\n",
              "      <td>8</td>\n",
              "      <td>350.0</td>\n",
              "      <td>165.0</td>\n",
              "      <td>3693</td>\n",
              "      <td>11.5</td>\n",
              "      <td>1970-01-01</td>\n",
              "      <td>USA</td>\n",
              "    </tr>\n",
              "    <tr>\n",
              "      <th>2</th>\n",
              "      <td>plymouth satellite</td>\n",
              "      <td>18.0</td>\n",
              "      <td>8</td>\n",
              "      <td>318.0</td>\n",
              "      <td>150.0</td>\n",
              "      <td>3436</td>\n",
              "      <td>11.0</td>\n",
              "      <td>1970-01-01</td>\n",
              "      <td>USA</td>\n",
              "    </tr>\n",
              "    <tr>\n",
              "      <th>3</th>\n",
              "      <td>amc rebel sst</td>\n",
              "      <td>16.0</td>\n",
              "      <td>8</td>\n",
              "      <td>304.0</td>\n",
              "      <td>150.0</td>\n",
              "      <td>3433</td>\n",
              "      <td>12.0</td>\n",
              "      <td>1970-01-01</td>\n",
              "      <td>USA</td>\n",
              "    </tr>\n",
              "    <tr>\n",
              "      <th>4</th>\n",
              "      <td>ford torino</td>\n",
              "      <td>17.0</td>\n",
              "      <td>8</td>\n",
              "      <td>302.0</td>\n",
              "      <td>140.0</td>\n",
              "      <td>3449</td>\n",
              "      <td>10.5</td>\n",
              "      <td>1970-01-01</td>\n",
              "      <td>USA</td>\n",
              "    </tr>\n",
              "  </tbody>\n",
              "</table>\n",
              "</div>"
            ],
            "text/plain": [
              "                        Name  Miles_per_Gallon  ...       Year  Origin\n",
              "0  chevrolet chevelle malibu              18.0  ... 1970-01-01     USA\n",
              "1          buick skylark 320              15.0  ... 1970-01-01     USA\n",
              "2         plymouth satellite              18.0  ... 1970-01-01     USA\n",
              "3              amc rebel sst              16.0  ... 1970-01-01     USA\n",
              "4                ford torino              17.0  ... 1970-01-01     USA\n",
              "\n",
              "[5 rows x 9 columns]"
            ]
          },
          "metadata": {
            "tags": []
          },
          "execution_count": 14
        }
      ]
    },
    {
      "cell_type": "code",
      "metadata": {
        "id": "z5m72cW8H8wX",
        "colab_type": "code",
        "outputId": "96fd6857-05d5-4398-9feb-fb57a1b73c9b",
        "colab": {
          "base_uri": "https://localhost:8080/",
          "height": 295
        }
      },
      "source": [
        "#plt.figure(figsize= (10,7))\n",
        "plt.scatter(cars_data.Horsepower,cars_data.Miles_per_Gallon, s=50,alpha=0.3, c='g')\n",
        "plt.xlabel('Horsepower')\n",
        "plt.ylabel('MPG')\n",
        "plt.title('Scatter plot on HP and MPG')\n",
        "plt.show()"
      ],
      "execution_count": 0,
      "outputs": [
        {
          "output_type": "display_data",
          "data": {
            "image/png": "[encoded data removed]",
            "text/plain": [
              "<Figure size 432x288 with 1 Axes>"
            ]
          },
          "metadata": {
            "tags": []
          }
        }
      ]
    },
    {
      "cell_type": "markdown",
      "metadata": {
        "id": "VMXNEf5X04lX",
        "colab_type": "text"
      },
      "source": [
        "Other options in matplot lib"
      ]
    },
    {
      "cell_type": "markdown",
      "metadata": {
        "id": "NxPp3DhA0uDm",
        "colab_type": "text"
      },
      "source": [
        "matplotlib.pyplot.scatter(x, y, s=None, c=None, marker=None, cmap=None, norm=None, vmin=None, vmax=None, alpha=None, linewidths=None, verts=None, edgecolors=None, *, plotnonfinite=False, data=None, **kwargs)"
      ]
    }
  ]
}